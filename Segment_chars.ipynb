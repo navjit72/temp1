{
 "cells": [
  {
   "cell_type": "code",
   "execution_count": 1,
   "metadata": {},
   "outputs": [],
   "source": [
    "import numpy as np\n",
    "import matplotlib.pyplot as plt\n",
    "import cv2\n",
    "from operator import itemgetter"
   ]
  },
  {
   "cell_type": "code",
   "execution_count": 6,
   "metadata": {},
   "outputs": [],
   "source": [
    "class Get_Chars:\n",
    "    def __init__(self,image):\n",
    "        self.image=image\n",
    "\n",
    "    def non_max_suppression_fast(self,boxes, overlapThresh):\n",
    "    # if there are no boxes, return an empty list\n",
    "        if len(boxes) == 0:\n",
    "            return []\n",
    "        \n",
    "        # if the bounding boxes integers, convert them to floats --\n",
    "        # this is important since we'll be doing a bunch of divisions\n",
    "        if boxes.dtype.kind == \"i\":\n",
    "            boxes = boxes.astype(\"float\")\n",
    "        \n",
    "        # initialize the list of picked indexes\t\n",
    "        pick = []\n",
    "        \n",
    "        # grab the coordinates of the bounding boxes\n",
    "        x1 = boxes[:,0]\n",
    "        y1 = boxes[:,1]\n",
    "        x2 = boxes[:,2]\n",
    "        y2 = boxes[:,3]\n",
    "        \n",
    "        # compute the area of the bounding boxes and sort the bounding\n",
    "        # boxes by the bottom-right y-coordinate of the bounding box\n",
    "        area = (x2 - x1 + 1) * (y2 - y1 + 1)\n",
    "        idxs = np.argsort(y2)\n",
    "        \n",
    "        # keep looping while some indexes still remain in the indexes\n",
    "        # list\n",
    "        while len(idxs) > 0:\n",
    "            # grab the last index in the indexes list and add the\n",
    "            # index value to the list of picked indexes\n",
    "            last = len(idxs) - 1\n",
    "            i = idxs[last]\n",
    "            pick.append(i)\n",
    "        \n",
    "            # find the largest (x, y) coordinates for the start of\n",
    "            # the bounding box and the smallest (x, y) coordinates\n",
    "            # for the end of the bounding box\n",
    "            xx1 = np.maximum(x1[i], x1[idxs[:last]])\n",
    "            yy1 = np.maximum(y1[i], y1[idxs[:last]])\n",
    "            xx2 = np.minimum(x2[i], x2[idxs[:last]])\n",
    "            yy2 = np.minimum(y2[i], y2[idxs[:last]])\n",
    "        \n",
    "            # compute the width and height of the bounding box\n",
    "            w = np.maximum(0, xx2 - xx1 + 1)\n",
    "            h = np.maximum(0, yy2 - yy1 + 1)\n",
    "        \n",
    "            # compute the ratio of overlap\n",
    "            overlap = (w * h) / area[idxs[:last]]\n",
    "        \n",
    "            # delete all indexes from the index list that have\n",
    "            idxs = np.delete(idxs, np.concatenate(([last],\n",
    "                np.where(overlap > overlapThresh)[0])))\n",
    "        \n",
    "        # return only the bounding boxes that were picked using the\n",
    "        # integer data type\n",
    "        return boxes[pick].astype(\"int\")\n",
    "    def find_contours(self):\n",
    "        imgray = cv2.cvtColor(self.image,cv2.COLOR_BGR2GRAY)\n",
    "        blur = cv2.GaussianBlur(imgray,(3,3),1.03)\n",
    "        thresh = cv2.adaptiveThreshold(blur,255,1,1,3,2)\n",
    "        im2, contours, hierarchy = cv2.findContours(thresh,cv2.RETR_LIST,cv2.CHAIN_APPROX_SIMPLE)\n",
    "        boxes=[]\n",
    "        for cnt in contours:\n",
    "            x,y,w,h = cv2.boundingRect(cnt)\n",
    "            if(w>100 or h<8):\n",
    "                continue\n",
    "            boxes.append([x,y,x+w,y+h])\n",
    "        boxes=np.array(boxes)\n",
    "        box=self.non_max_suppression_fast(boxes,0.2)#0.01\n",
    "        return box\n",
    "    #boxes_np=np.array(box)\n",
    "    def top_affinity(self,boxes):\n",
    "        y_top=set(boxes[:,1])\n",
    "        affinity=[]\n",
    "        for y in y_top:\n",
    "            if(len(affinity)==0):\n",
    "                affinity.append([y])\n",
    "            else:\n",
    "                nearest=0\n",
    "                min_dist=1000000000\n",
    "                for i in range(0,len(affinity)):\n",
    "                    dist=abs(y-affinity[i][0])\n",
    "                    if(dist<min_dist):\n",
    "                        nearest=i\n",
    "                        min_dist=dist\n",
    "                if(min_dist<5):\n",
    "                    if(y<affinity[nearest][0]):\n",
    "                        affinity[nearest]=[y]+affinity[nearest]\n",
    "                    else:\n",
    "                        affinity[nearest].append(y)\n",
    "                else:\n",
    "                    affinity.append([y])\n",
    "        return affinity\n",
    "    def bottom_affinity(self,boxes):\n",
    "        y_top=set(boxes[:,3])\n",
    "        affinity=[]\n",
    "        for y in y_top:\n",
    "            if(len(affinity)==0):\n",
    "                affinity.append([y])\n",
    "            else:\n",
    "                nearest=0\n",
    "                min_dist=1000000000\n",
    "                for i in range(0,len(affinity)):\n",
    "                    dist=abs(y-affinity[i][0])\n",
    "                    if(dist<min_dist):\n",
    "                        nearest=i\n",
    "                        min_dist=dist\n",
    "                if(min_dist<5):\n",
    "                    if(y>affinity[nearest][0]):\n",
    "                        affinity[nearest]=[y]+affinity[nearest]\n",
    "                    else:\n",
    "                        affinity[nearest].append(y)\n",
    "                else:\n",
    "                    affinity.append([y])\n",
    "        return affinity\n",
    "    def get_boxes(self):\n",
    "        box=self.find_contours()\n",
    "        top_affinity_list=self.top_affinity(box)\n",
    "        bottom_affinity_list=self.bottom_affinity(box)\n",
    "        \n",
    "        result_boxes=[]\n",
    "        for i in range(len(box)):\n",
    "            x1,y1,x2,y2=box[i]\n",
    "            for i in range(len(top_affinity_list)):\n",
    "                if(y1 in top_affinity_list[i]):\n",
    "                    y1=top_affinity_list[i][0]\n",
    "                    break\n",
    "            for i in range(len(bottom_affinity_list)):\n",
    "                if(y2 in bottom_affinity_list[i]):\n",
    "                    y2=bottom_affinity_list[i][0]\n",
    "                    break\n",
    "            result_boxes.append([x1-1,y1-2,x2+1,y2+2])\n",
    "        result_boxes=sorted(result_boxes,key=itemgetter(1,0))\n",
    "        return result_boxes\n",
    "    def pipeline(self):\n",
    "        boxes=self.get_boxes()\n",
    "        count=0\n",
    "        for i in range(len(boxes)):\n",
    "            x1,y1,x2,y2=boxes[i]\n",
    "            cv2.imwrite('./chars/others/image'+str(count)+'.jpg',image[y1:y2,x1:x2])\n",
    "            count+=1\n",
    "            \n",
    "        print('images generated',count)"
   ]
  },
  {
   "cell_type": "code",
   "execution_count": 7,
   "metadata": {},
   "outputs": [
    {
     "name": "stdout",
     "output_type": "stream",
     "text": [
      "(45, 226, 3)\n",
      "images generated 7\n"
     ]
    }
   ],
   "source": [
    "image=cv2.imread('./data/image2.JPG')\n",
    "print(image.shape)\n",
    "obj=Get_Chars(image)\n",
    "obj.pipeline()"
   ]
  },
  {
   "cell_type": "code",
   "execution_count": 16,
   "metadata": {},
   "outputs": [
    {
     "name": "stdout",
     "output_type": "stream",
     "text": [
      "(25, 242, 3)\n"
     ]
    }
   ],
   "source": [
    "image=cv2.imread('./data/untitled.png')\n",
    "print(image.shape)"
   ]
  },
  {
   "cell_type": "code",
   "execution_count": 58,
   "metadata": {},
   "outputs": [
    {
     "data": {
      "text/plain": [
       "<matplotlib.image.AxesImage at 0xb697048>"
      ]
     },
     "execution_count": 58,
     "metadata": {},
     "output_type": "execute_result"
    },
    {
     "data": {
      "image/png": "[encoded data removed]",
      "text/plain": [
       "<matplotlib.figure.Figure at 0xb64e160>"
      ]
     },
     "metadata": {},
     "output_type": "display_data"
    }
   ],
   "source": [
    "gray=cv2.cvtColor(image,cv2.COLOR_BGR2GRAY)\n",
    "blur = cv2.GaussianBlur(gray,(3,3),0)\n",
    "thresh = cv2.adaptiveThreshold(blur,10,1,0,3,1)\n",
    "plt.imshow(thresh)\n"
   ]
  },
  {
   "cell_type": "code",
   "execution_count": 57,
   "metadata": {},
   "outputs": [
    {
     "name": "stdout",
     "output_type": "stream",
     "text": [
      "[  0   1   2   3   4  12  20  22  30  35  36  40  41  42  43  44  46  47\n",
      "  50  57  60  61  64  65  68  74  75  76  77  78  82  89  90  91  92  93\n",
      "  95 100 107 110 111 112 122 125 126 127 129 130 131 133 134 135 137 138\n",
      " 139 140 141 148 154 155 158 161 168 169 171 172 173 175 176 182 183 184\n",
      " 185 186 193 196 197 200 201 202 203 204 208 210 211 212 214 215 222 225\n",
      " 226 229 230 232 233 234 235 236 237 238 239 240 241]\n"
     ]
    },
    {
     "data": {
      "text/plain": [
       "[<matplotlib.lines.Line2D at 0xb62f780>]"
      ]
     },
     "execution_count": 57,
     "metadata": {},
     "output_type": "execute_result"
    },
    {
     "data": {
      "image/png": "[encoded data removed]",
      "text/plain": [
       "<matplotlib.figure.Figure at 0xb4a2a90>"
      ]
     },
     "metadata": {},
     "output_type": "display_data"
    }
   ],
   "source": [
    "print(np.where(np.sum(thresh,axis=0)>230)[0])\n",
    "plt.plot(np.sum(thresh,axis=0))"
   ]
  },
  {
   "cell_type": "code",
   "execution_count": null,
   "metadata": {},
   "outputs": [],
   "source": []
  }
 ],
 "metadata": {
  "kernelspec": {
   "display_name": "Python [conda env:carnd-term1]",
   "language": "python",
   "name": "conda-env-carnd-term1-py"
  },
  "language_info": {
   "codemirror_mode": {
    "name": "ipython",
    "version": 3
   },
   "file_extension": ".py",
   "mimetype": "text/x-python",
   "name": "python",
   "nbconvert_exporter": "python",
   "pygments_lexer": "ipython3",
   "version": "3.5.2"
  },
  "widgets": {
   "state": {},
   "version": "1.1.2"
  }
 },
 "nbformat": 4,
 "nbformat_minor": 2
}
